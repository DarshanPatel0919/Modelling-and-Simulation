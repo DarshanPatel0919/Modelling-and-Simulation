{
  "nbformat": 4,
  "nbformat_minor": 0,
  "metadata": {
    "colab": {
      "name": "ModSim_LAB2.ipynb",
      "provenance": [],
      "private_outputs": true,
      "authorship_tag": "ABX9TyOeyCcD6JFJxIYw5aPrGEt+",
      "include_colab_link": true
    },
    "kernelspec": {
      "name": "python3",
      "display_name": "Python 3"
    }
  },
  "cells": [
    {
      "cell_type": "markdown",
      "metadata": {
        "id": "view-in-github",
        "colab_type": "text"
      },
      "source": [
        "<a href=\"https://colab.research.google.com/github/DarshanPatel0919/Modelling-and-Simulation/blob/master/ModSim_LAB2.ipynb\" target=\"_parent\"><img src=\"https://colab.research.google.com/assets/colab-badge.svg\" alt=\"Open In Colab\"/></a>"
      ]
    },
    {
      "cell_type": "code",
      "metadata": {
        "id": "tNjePmG6QTCW"
      },
      "source": [
        "import numpy as np\n",
        "import pylab as plt\n",
        "import pandas as pd\n",
        "import random as rd"
      ],
      "execution_count": null,
      "outputs": []
    },
    {
      "cell_type": "code",
      "metadata": {
        "id": "FqFwvT2Jg1R_"
      },
      "source": [
        "def model(p,q,c,n):\n",
        "    al = p + (q*n/c)\n",
        "    return al*(c-n)\n",
        "\n",
        "n0=0\n",
        "\n",
        "st=0\n",
        "en=12\n",
        "dt=1e-3\n",
        "n=int((en-st)/dt) + 1\n",
        "\n",
        "p = 0.0015\n",
        "#q = 1\n",
        "c = 2000\n",
        "#p,q,c = 0.0015,2,100\n",
        "Q =[1,1.5,3]\n",
        "\n",
        "for q in Q:\n",
        "  N=[n0]\n",
        "  Nd=[n0]\n",
        "  for i in range(1,n):\n",
        "    Nd += [model(p,q,c,N[i-1])]\n",
        "    N  += [N[i-1]+dt*Nd[i]]\n",
        "  plt.plot(np.linspace(0,en,n),N,label='q = '+str(q))\n",
        "  #plt.plot(np.linspace(dt,en,n-1),Nd[1:],label='p = '+str(p))\n",
        "plt.xlabel('time(years)')\n",
        "plt.ylabel('Market Share')\n",
        "plt.title('(p,c) = (0.0015,2000)')\n",
        "plt.legend(loc='best')\n",
        "plt.show()"
      ],
      "execution_count": null,
      "outputs": []
    },
    {
      "cell_type": "code",
      "metadata": {
        "id": "8ICv0UIehxL6"
      },
      "source": [
        "def h(t):\n",
        "    return np.sum((y-np.matmul(xx,t))**2)/xx.shape[0]\n",
        "def model(xx,t):\n",
        "    return np.matmul(xx,t)"
      ],
      "execution_count": null,
      "outputs": []
    },
    {
      "cell_type": "code",
      "metadata": {
        "id": "JahOWI9ooSMb"
      },
      "source": [
        "x=np.array([2594939877,2636772306,2682053389,2730228104,2782098943,2835299673,2891349717,2948137248,3000716593,3043001508,3083966929,3140093217,3209827882,3281201306,3350425793,3420677923,3490333715,3562313822,3637159050,3712697742,3790326948,3866568653,3942096442,4016608813,4089083233,4160185010,4232084578,4304105753,4379013942,4451362735,4534410125,4614566561,4695736743,4774569391,4856462699,4940571232,5027200492,5114557167,5201440110,5288955934,5371585922,5456136278,5538268316,5618682132,5699202985,5779440593,5857972543,5935213248,6012074922,6088571383,6165219247,6242016348,6318590956,6395699509,6473044732,6551263534,6629913759,6709049780,6788214394,6858584755,6935999491,7013871313,7092128094,7169968185,7247892788,7325996709])\n",
        "tmp=x\n",
        "#plt.plot(t,x)\n",
        "n = len(x)\n",
        "p = 1     #p>0\n",
        "y  = x[p:] - x[p-1:n-1]\n",
        "x  = x[p:]\n",
        "n"
      ],
      "execution_count": null,
      "outputs": []
    },
    {
      "cell_type": "code",
      "metadata": {
        "id": "1u3_6cycJuKu"
      },
      "source": [
        "xx = np.array([[] for i in x])\n",
        "order=3\n",
        "for l in range(order):\n",
        "  joiner = np.absolute(np.array([[i**(l)] for i in x]))\n",
        "  xx = np.concatenate((xx,joiner),axis=1)\n",
        "#print(xx)\n",
        "\n",
        "#  Regularization\n",
        "# l = 15625,16000,1.59\n",
        "l = 0\n",
        "r = l*np.identity(order)\n",
        "\n",
        "#  Psuedo Inverse\n",
        "#theta = np.matmul(np.matmul(np.linalg.inv(np.matmul(np.transpose(xx),xx)-r),np.transpose(xx)),y)\n",
        "theta = np.flip(np.polyfit(x,y,order-1))\n",
        "#M = model(xx,theta)\n",
        "#plt.plot(x,M)\n",
        "#plt.show()\n",
        "\n",
        "theta"
      ],
      "execution_count": null,
      "outputs": []
    },
    {
      "cell_type": "code",
      "metadata": {
        "id": "eciSd-HkhxJy"
      },
      "source": [
        "future =150\n",
        "c=[tmp[0]]\n",
        "st=1950\n",
        "en=st+len(xx)+future\n",
        "dt=1\n",
        "n=int((en-st)/dt) + 1\n",
        "M =[]\n",
        "\n",
        "## Euler's Method\n",
        "for i in range(1,n):\n",
        "  p = c[i-1]\n",
        "  tt = []\n",
        "  for l in range(order):tt += [p**(l)]\n",
        "  tt = np.absolute(np.array(tt))\n",
        "  M += [model(tt,theta)]\n",
        "  c += [ c[i-1] + dt*M[i-1] ]\n",
        "  \n",
        "\n",
        "\n",
        "## Runge - Kutta\n",
        "for i in range(0):  \n",
        "  p = c[i-1]\n",
        "  tt = []\n",
        "  for l in range(order):tt += [p**(l)]\n",
        "  tt = np.absolute(np.array(tt))\n",
        "  v1 = model(tt,theta)\n",
        "  \n",
        "  p += dt/2\n",
        "  tt = []\n",
        "  for l in range(order):tt += [p**(l)]\n",
        "  tt = np.absolute(np.array(tt))\n",
        "  v2 =  model(tt,theta)\n",
        "  \n",
        "  v3 =  model(tt,theta)\n",
        "\n",
        "  p += dt/2\n",
        "  tt = []\n",
        "  for l in range(order):tt += [p**(l)]\n",
        "  tt = np.absolute(np.array(tt))\n",
        "  v4 =  model(tt,theta)\n",
        "\n",
        "  V = (v1 + 2*v2 + 2*v3 + v4)/6\n",
        "\n",
        "  c += [p + dt * V] \n",
        "  M += [V]\n",
        "\n",
        "#c = np.array(c)\n",
        "#plt.plot(np.linspace(st,en,n),c)\n",
        "\n",
        "plt.plot(np.linspace(st,en-future,n-future),tmp,label='Actual')\n",
        "plt.plot(np.linspace(st,en-future,n-future),c[:66],'y--',label='Logistic')\n",
        "plt.xlabel('Time(years)')\n",
        "plt.ylabel('n')\n",
        "plt.legend(loc='best')\n",
        "plt.show()\n",
        "\n",
        "#plt.plot(np.linspace(st+1,en,n-1),M)\n",
        "#plt.show()\n",
        "\n",
        "MSE = np.mean((c[:66]-tmp)**2)\n",
        "MSE"
      ],
      "execution_count": null,
      "outputs": []
    },
    {
      "cell_type": "code",
      "metadata": {
        "id": "uDDR166ZexQr"
      },
      "source": [
        "xx = np.array([[] for i in x])\n",
        "order=2\n",
        "for l in range(order):\n",
        "  joiner = np.absolute(np.array([[i**(l)] for i in x]))\n",
        "  xx = np.concatenate((xx,joiner),axis=1)\n",
        "#print(xx)\n",
        "\n",
        "#  Regularization\n",
        "# l = 15625,16000,1.59\n",
        "l = 0\n",
        "r = l*np.identity(order)\n",
        "\n",
        "#  Psuedo Inverse\n",
        "#theta = np.matmul(np.matmul(np.linalg.inv(np.matmul(np.transpose(xx),xx)-r),np.transpose(xx)),y)\n",
        "theta = np.flip(np.polyfit(x,y,order-1))\n",
        "M = model(xx,theta)\n",
        "plt.plot(x,M)\n",
        "plt.show()\n",
        "\n",
        "theta"
      ],
      "execution_count": null,
      "outputs": []
    },
    {
      "cell_type": "code",
      "metadata": {
        "id": "jS3JzWstez4W"
      },
      "source": [
        "c2=[tmp[0]]\n",
        "st=1950\n",
        "en=st+len(xx)+future\n",
        "dt=1\n",
        "n=int((en-st)/dt) + 1\n",
        "M =[]\n",
        "\n",
        "## Euler's Method\n",
        "for i in range(1,n):\n",
        "  p = c2[i-1]\n",
        "  tt = []\n",
        "  for l in range(order):tt += [p**(l)]\n",
        "  tt = np.absolute(np.array(tt))\n",
        "  M += [model(tt,theta)]\n",
        "  c2 += [ c2[i-1] + dt*M[i-1] ]\n",
        "  \n",
        "\n",
        "\n",
        "## Runge - Kutta\n",
        "for i in range(0):  \n",
        "  p = c[i-1]\n",
        "  tt = []\n",
        "  for l in range(order):tt += [p**(l)]\n",
        "  tt = np.absolute(np.array(tt))\n",
        "  v1 = model(tt,theta)\n",
        "  \n",
        "  p += dt/2\n",
        "  tt = []\n",
        "  for l in range(order):tt += [p**(l)]\n",
        "  tt = np.absolute(np.array(tt))\n",
        "  v2 =  model(tt,theta)\n",
        "  \n",
        "  v3 =  model(tt,theta)\n",
        "\n",
        "  p += dt/2\n",
        "  tt = []\n",
        "  for l in range(order):tt += [p**(l)]\n",
        "  tt = np.absolute(np.array(tt))\n",
        "  v4 =  model(tt,theta)\n",
        "\n",
        "  V = (v1 + 2*v2 + 2*v3 + v4)/6\n",
        "\n",
        "  c += [p + dt * V] \n",
        "  M += [V]\n",
        "\n",
        "#c = np.array(c)\n",
        "#plt.plot(np.linspace(st,en,n),c)\n",
        "\n",
        "plt.plot(np.linspace(st,en,n),c,label='Logistic')\n",
        "plt.plot(np.linspace(st,en,n),c2,label='Linear')\n",
        "plt.xlabel('Time(years)')\n",
        "plt.ylabel('n')\n",
        "plt.legend(loc='best')\n",
        "plt.show()\n",
        "\n",
        "#plt.plot(np.linspace(st+1,en,n-1),M)\n",
        "#plt.show()"
      ],
      "execution_count": null,
      "outputs": []
    },
    {
      "cell_type": "code",
      "metadata": {
        "id": "f3f5FW6yB9PV"
      },
      "source": [
        "plt.plot(x,y,'y',label='Actual')\n",
        "plt.plot(tmp,M[:66],'r',label='linear')\n",
        "plt.ylabel('dn/dt')\n",
        "plt.xlabel('n')\n",
        "plt.legend(loc='best')\n",
        "plt.show()\n",
        "len(x)"
      ],
      "execution_count": null,
      "outputs": []
    },
    {
      "cell_type": "code",
      "metadata": {
        "id": "reH03wxNxdwm"
      },
      "source": [
        "delta = theta[1]**2 - 4*theta[0]*theta[2]\n",
        "delta"
      ],
      "execution_count": null,
      "outputs": []
    },
    {
      "cell_type": "code",
      "metadata": {
        "id": "5MnBDRM-4x5e"
      },
      "source": [
        "D = np.sqrt(delta)\n",
        "C =  (-theta[1] + D) / 2*theta[2]\n",
        "\n",
        "Q = -C*theta[2]\n",
        "P = Q - theta[1]\n",
        "\n",
        "print(P,Q,C)"
      ],
      "execution_count": null,
      "outputs": []
    },
    {
      "cell_type": "code",
      "metadata": {
        "id": "IYEldhGeyyQc"
      },
      "source": [
        ""
      ],
      "execution_count": null,
      "outputs": []
    }
  ]
}