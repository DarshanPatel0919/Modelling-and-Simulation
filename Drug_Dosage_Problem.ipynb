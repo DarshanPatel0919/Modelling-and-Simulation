{
  "nbformat": 4,
  "nbformat_minor": 0,
  "metadata": {
    "colab": {
      "name": "Drug_Dosage_Problem.ipynb",
      "provenance": [],
      "private_outputs": true,
      "collapsed_sections": [],
      "include_colab_link": true
    },
    "kernelspec": {
      "name": "python3",
      "display_name": "Python 3"
    }
  },
  "cells": [
    {
      "cell_type": "markdown",
      "metadata": {
        "id": "view-in-github",
        "colab_type": "text"
      },
      "source": [
        "<a href=\"https://colab.research.google.com/github/DarshanPatel0919/Modelling-and-Simulation/blob/master/Drug_Dosage_Problem.ipynb\" target=\"_parent\"><img src=\"https://colab.research.google.com/assets/colab-badge.svg\" alt=\"Open In Colab\"/></a>"
      ]
    },
    {
      "cell_type": "code",
      "metadata": {
        "id": "0x9NfJZsZd-r",
        "colab_type": "code",
        "colab": {}
      },
      "source": [
        "################  Q1  ###################"
      ],
      "execution_count": 0,
      "outputs": []
    },
    {
      "cell_type": "code",
      "metadata": {
        "id": "jH9qoNpyZl0l",
        "colab_type": "code",
        "colab": {}
      },
      "source": [
        "import numpy as np\n",
        "import pylab as plt"
      ],
      "execution_count": 0,
      "outputs": []
    },
    {
      "cell_type": "code",
      "metadata": {
        "id": "UFiSHn8CZnRk",
        "colab_type": "code",
        "colab": {}
      },
      "source": [
        "k=0.1386\n",
        "c0=6\n",
        "dt=0.01\n",
        "def model(c):\n",
        "  return -k*c\n",
        "c=[c0]\n",
        "st=0\n",
        "en=24\n",
        "n=int((en-st)/dt) + 1\n",
        "for i in range(1,n):\n",
        "  c+=[c[i-1]+dt*model(c[i-1])]\n",
        "plt.plot(np.linspace(0,24,n),c,label='Drug Concentration')\n",
        "plt.xlabel('time(hrs)')\n",
        "plt.ylabel('Concentration')\n",
        "plt.legend(loc='best')\n",
        "plt.show()"
      ],
      "execution_count": 0,
      "outputs": []
    },
    {
      "cell_type": "code",
      "metadata": {
        "id": "A6FD4zitjrIS",
        "colab_type": "code",
        "colab": {}
      },
      "source": [
        "K=[0.0950,0.1130,0.1386,0.1600,0.180]\n",
        "\n",
        "for k in K:\n",
        "  c0=6\n",
        "  dt=0.01\n",
        "  def model(c):\n",
        "    return -k*c\n",
        "  c=[c0]\n",
        "  st=0\n",
        "  en=24\n",
        "  n=int((en-st)/dt) + 1\n",
        "  for i in range(1,n):\n",
        "    c+=[c[i-1]+dt*model(c[i-1])]\n",
        "  if(k==0.1386):\n",
        "    plt.plot(np.linspace(0,24,n),c,'--',label='k = '+str(k))\n",
        "  else:\n",
        "    plt.plot(np.linspace(0,24,n),c,label='k = '+str(k))\n",
        "\n",
        "\n",
        "\n",
        "plt.xlabel('time(hrs)')\n",
        "plt.ylabel('Concentration')\n",
        "plt.legend(loc='best')\n",
        "plt.show()"
      ],
      "execution_count": 0,
      "outputs": []
    },
    {
      "cell_type": "code",
      "metadata": {
        "id": "W8mCKEDml0eV",
        "colab_type": "code",
        "colab": {}
      },
      "source": [
        "k=0.1386\n",
        "c0=6\n",
        "dt=0.01\n",
        "step=5\n",
        "def model(t,c):\n",
        "  if(t<=step):\n",
        "    return 6-k*c\n",
        "  return -k*c\n",
        "c=[c0]\n",
        "st=0\n",
        "en=24\n",
        "n=int((en-st)/dt) + 1\n",
        "for i in range(1,n):\n",
        "  c+=[c[i-1]+dt*model(i*dt,c[i-1])]\n",
        "plt.plot(np.linspace(0,24,n),c)"
      ],
      "execution_count": 0,
      "outputs": []
    },
    {
      "cell_type": "code",
      "metadata": {
        "id": "KudWN3eGmgyn",
        "colab_type": "code",
        "colab": {}
      },
      "source": [
        "K=[0.0950,0.1130,0.1386,0.1600,0.180]\n",
        "\n",
        "for k in K:\n",
        "  c0=6\n",
        "  dt=0.01\n",
        "  step=5\n",
        "  def model(t,c):\n",
        "    if(t<=step):\n",
        "      return 6-k*c\n",
        "    return -k*c\n",
        "  c=[c0]\n",
        "  st=0\n",
        "  en=24\n",
        "  n=int((en-st)/dt) + 1\n",
        "  for i in range(1,n):\n",
        "    c+=[c[i-1]+dt*model(i*dt,c[i-1])]\n",
        "  if(k==0.1386):\n",
        "    plt.plot(np.linspace(0,24,n),c,'--',label='k = '+str(k))\n",
        "  else:\n",
        "    plt.plot(np.linspace(0,24,n),c,label='k = '+str(k))\n",
        "\n",
        "\n",
        "plt.xlabel('time(hrs)')\n",
        "plt.ylabel('Concentration')\n",
        "plt.legend(loc='best')\n",
        "plt.show()"
      ],
      "execution_count": 0,
      "outputs": []
    },
    {
      "cell_type": "code",
      "metadata": {
        "id": "felruvdAsGy6",
        "colab_type": "code",
        "colab": {}
      },
      "source": [
        "days=3\n",
        "M=28\n",
        "m=13\n",
        "c0=6\n",
        "\n",
        "C = 1 - np.exp(-days*24*k)\n",
        "upper = np.log((m+c0)/(m+c0-c0*C))/k\n",
        "lower = np.log(M/(M-c0*C))/k\n",
        "print(lower*60,upper*60)\n",
        "\n",
        "p=99\n",
        "k=0.1386\n",
        "k=k\n",
        "c0=6\n",
        "dt=0.01\n",
        "\n",
        "\n",
        "\n",
        "step=int((upper)/(dt))\n",
        "def model(t,c):\n",
        "  return -k*c\n",
        "c=[c0]\n",
        "st=0\n",
        "en=days*24\n",
        "n=int((en-st)/dt) + 1\n",
        "for i in range(1,n):\n",
        "  c+=[c[i-1]+dt*model(i*dt,c[i-1])]\n",
        "  if(i%step==0):c[i]+=c0\n",
        "plt.plot(np.linspace(st,en,n),c,label=\"T =\"+str(round(upper,3)))\n",
        "\n",
        "#plt.xlim((1,100))\n",
        "\n",
        "app=p*max(c)/100\n",
        "app=c0/(1-np.exp(-k*upper))\n",
        "c=np.array(c)\n",
        "i = np.where(c>=app)\n",
        "i = np.sort(i)\n",
        "print(\"upper\",i[0]/(24))\n",
        "\n",
        "\n",
        "k=0.1386\n",
        "c0=6\n",
        "dt=0.01\n",
        "step=int((lower)/(dt))\n",
        "def model(t,c):\n",
        "  return -k*c\n",
        "c=[c0]\n",
        "st=0\n",
        "en=days*24\n",
        "n=int((en-st)/dt) + 1\n",
        "for i in range(1,n):\n",
        "  c+=[c[i-1]+dt*model(i*dt,c[i-1])]\n",
        "  if(i%step==0):c[i]+=c0\n",
        "plt.plot(np.linspace(st,en,n),c,label=\"T =\"+str(round(lower,3)))\n",
        "plt.xlabel('time(hrs)')\n",
        "plt.ylabel('Concentration')\n",
        "plt.legend(loc='best')\n",
        "plt.show()\n",
        "#plt.xlim((1,100))\n",
        "\n",
        "\n",
        "app=p*max(c)/100\n",
        "\n",
        "app=c0/(1-np.exp(-k*lower))\n",
        "c=np.array(c)\n",
        "i = np.where(c>=app)\n",
        "i = np.sort(i)\n",
        "print(\"lower\",i[0]/(24))\n",
        "\n",
        "\n",
        "print(lower,upper,(lower+upper)/2)"
      ],
      "execution_count": 0,
      "outputs": []
    },
    {
      "cell_type": "code",
      "metadata": {
        "id": "83wPZZIRYojz",
        "colab_type": "code",
        "colab": {}
      },
      "source": [
        "k=0.1386/60\n",
        "c0=6\n",
        "dt=1\n",
        "T=240\n",
        "tau=35\n",
        "\n",
        "st=0\n",
        "en=24*10*60\n",
        "n=int((en-st)/dt) + 1\n",
        "c=[]\n",
        "for i in range(n):\n",
        "  nd = int(i/T) \n",
        "  if(i%T<tau):\n",
        "      c += [ c0*np.exp(-k*i*dt)*((np.exp(k*tau)-1)*(np.exp(nd*k*T)-1)/(np.exp(k*T)-1))/k + c0*(1 - np.exp(k*(nd*T-i*dt)))/k ]\n",
        "  else:\n",
        "       c += [ c0*np.exp(-k*i*dt)*(np.exp(k*tau)-1)*(np.exp((nd+1)*k*T)-1)/(np.exp(k*T)-1)/k ]\n",
        "plt.plot(np.linspace(0,en,n)/60,c,label=\"(T,tau) = (\"+str(T)+\",\"+str(tau)+\")\")\n",
        "plt.xlabel('time(hrs)')\n",
        "plt.ylabel('Concentration')\n",
        "plt.legend(loc='best')\n",
        "plt.show()"
      ],
      "execution_count": 0,
      "outputs": []
    },
    {
      "cell_type": "code",
      "metadata": {
        "id": "pCZj6VUqTP_Y",
        "colab_type": "code",
        "colab": {}
      },
      "source": [
        "k=0.1386/60\n",
        "c0=6\n",
        "dt=1\n",
        "T=240\n",
        "tau=35\n",
        "\n",
        "st=0\n",
        "en=24*10*60\n",
        "n=int((en-st)/dt) + 1\n",
        "c=[]\n",
        "for i in range(n):\n",
        "  nd = int(i/T) \n",
        "  if(i%T<tau):\n",
        "      c += [ c0*np.exp(-k*i*dt)*((np.exp(k*tau)-1)*(np.exp(nd*k*T)-1)/(np.exp(k*T)-1))/k + c0*(1 - np.exp(k*(nd*T-i*dt)))/k ]\n",
        "  else:\n",
        "       c += [ c0*np.exp(-k*i*dt)*(np.exp(k*tau)-1)*(np.exp((nd+1)*k*T)-1)/(np.exp(k*T)-1)/k ]\n",
        "plt.plot(np.linspace(0,en,n)/60,c,label=\"(T,tau) = (\"+str(T)+\",\"+str(tau)+\")\")\n",
        "plt.xlabel('time(hrs)')\n",
        "plt.ylabel('Concentration')\n",
        "plt.legend(loc='best')\n",
        "plt.show()"
      ],
      "execution_count": 0,
      "outputs": []
    },
    {
      "cell_type": "code",
      "metadata": {
        "id": "yM5TrjbMog7L",
        "colab_type": "code",
        "colab": {}
      },
      "source": [
        "k1=1.386/60\n",
        "k2=0.1386/60\n",
        "c0=6\n",
        "dt=1\n",
        "def GI(x):\n",
        "  return -k1*x\n",
        "def Body(x,y):\n",
        "  return k1*x - k2*y\n",
        "c=[c0]\n",
        "y=[0]\n",
        "st=0\n",
        "en=24*60*3\n",
        "n=int((en-st)/dt) + 1\n",
        "for i in range(1,n):\n",
        "  c+=[c[i-1]+dt*GI(c[i-1])]\n",
        "  y+=[y[i-1]+dt*Body(c[i],y[i-1])]\n",
        "\n",
        "plt.plot(np.linspace(0,en,n)/60,c,label='GI')\n",
        "plt.plot(np.linspace(0,en,n)/60,y,label='Body')\n",
        "plt.xlabel('time(hrs)')\n",
        "plt.ylabel('Concentration')\n",
        "plt.legend(loc='best')\n",
        "plt.show()\n",
        "max(y)"
      ],
      "execution_count": 0,
      "outputs": []
    },
    {
      "cell_type": "code",
      "metadata": {
        "id": "oPwni_Ca3pLZ",
        "colab_type": "code",
        "colab": {}
      },
      "source": [
        "k1=1.386/60\n",
        "k2=0.1386/60\n",
        "c0=6\n",
        "dt=1\n",
        "def GI(x):\n",
        "  return c0-k1*x\n",
        "def Body(x,y):\n",
        "  return k1*x - k2*y\n",
        "c=[c0]\n",
        "y=[0]\n",
        "st=0\n",
        "en=24*60*3\n",
        "n=int((en-st)/dt) + 1\n",
        "for i in range(1,n):\n",
        "  c+=[c[i-1]+dt*GI(c[i-1])]\n",
        "  y+=[y[i-1]+dt*Body(c[i],y[i-1])]\n",
        "\n",
        "\n",
        "plt.plot(np.linspace(0,en,n)/60,c,label='GI')\n",
        "plt.plot(np.linspace(0,en,n)/60,y,label='Body')\n",
        "plt.xlabel('time(hrs)')\n",
        "plt.ylabel('Concentration')\n",
        "plt.legend(loc='best')\n",
        "plt.show()"
      ],
      "execution_count": 0,
      "outputs": []
    },
    {
      "cell_type": "code",
      "metadata": {
        "id": "d8AwIzVaw7lD",
        "colab_type": "code",
        "colab": {}
      },
      "source": [
        "days=3\n",
        "M=25\n",
        "m=10\n",
        "c0=6\n",
        "\n",
        "C = 1 - np.exp(-days*24*k)\n",
        "upper = np.log((m+c0)/(m+c0-c0*C))/k\n",
        "lower = np.log(M/(M-c0*C))/k\n",
        "def GI(x):\n",
        "  return -k1*x\n",
        "dt=1\n",
        "\n",
        "step=int((198)/(dt))\n",
        "\n",
        "c=[0]\n",
        "y=[0]\n",
        "st=0\n",
        "en=days*24*60\n",
        "n=int((en-st)/dt) + 1\n",
        "for i in range(1,n):\n",
        "  c+=[c[i-1]+dt*GI(c[i-1])]\n",
        "  if(i%step==0):c[i]+=c0\n",
        "  y+=[y[i-1]+dt*Body(c[i],y[i-1])]\n",
        "\n",
        "\n",
        "plt.plot(np.linspace(0,en,n)/60,c,label='GI')\n",
        "plt.plot(np.linspace(0,en,n)/60,y,label='Body')\n",
        "plt.xlabel('time(hrs)')\n",
        "plt.ylabel('Concentration')\n",
        "plt.legend(loc='best')\n",
        "plt.show()"
      ],
      "execution_count": 0,
      "outputs": []
    },
    {
      "cell_type": "code",
      "metadata": {
        "id": "mCHR2emIx9_b",
        "colab_type": "code",
        "colab": {}
      },
      "source": [
        "k1=1.386/60\n",
        "k2=0.1386/60\n",
        "k=k1\n",
        "c0=6\n",
        "dt=1\n",
        "def GI(x):\n",
        "  return -k1*x\n",
        "def Body(x,y):\n",
        "  return k1*x - k2*y\n",
        "\n",
        "c0=6\n",
        "dt=1\n",
        "T=150\n",
        "tau=30\n",
        "\n",
        "st=0\n",
        "en=24*3*60\n",
        "n=int((en-st)/dt) + 1\n",
        "c=[0]\n",
        "y=[0]\n",
        "for i in range(1,n):\n",
        "  nd = int(i/T)\n",
        "  if(i%T<tau):\n",
        "      c += [ c0*np.exp(-k*i*dt)*((np.exp(k*tau)-1)*(np.exp(nd*k*T)-1)/(np.exp(k*T)-1))/k + c0*(1 - np.exp(k*(nd*T-i*dt)))/k ]\n",
        "  else:\n",
        "       c += [ c0*np.exp(-k*i*dt)*(np.exp(k*tau)-1)*(np.exp((nd+1)*k*T)-1)/(np.exp(k*T)-1)/k ]\n",
        "  y+=[y[i-1]+dt*Body(c[i],y[i-1])]\n",
        "\n",
        "plt.plot(np.linspace(0,en,n)/60,c,label='GI')\n",
        "plt.plot(np.linspace(0,en,n)/60,y,label='Body')\n",
        "plt.legend(loc='best')\n",
        "plt.xlabel('time(hrs)')\n",
        "plt.ylabel('Concentration')\n",
        "print(\"Maximum concentration in Body is :\",max(y))\n",
        "plt.show()\n"
      ],
      "execution_count": 0,
      "outputs": []
    },
    {
      "cell_type": "code",
      "metadata": {
        "id": "sDJoaWwNS6Yg",
        "colab_type": "code",
        "colab": {}
      },
      "source": [
        ""
      ],
      "execution_count": 0,
      "outputs": []
    }
  ]
}